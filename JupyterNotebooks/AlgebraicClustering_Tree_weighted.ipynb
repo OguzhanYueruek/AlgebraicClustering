{
 "cells": [
  {
   "cell_type": "code",
   "execution_count": 1,
   "metadata": {},
   "outputs": [
    {
     "name": "stderr",
     "output_type": "stream",
     "text": [
      "\u001b[32m\u001b[1m    Updating\u001b[22m\u001b[39m registry at `~/.julia/registries/General.toml`\n",
      "\u001b[32m\u001b[1m   Resolving\u001b[22m\u001b[39m package versions...\n",
      "\u001b[32m\u001b[1m  No Changes\u001b[22m\u001b[39m to `~/.julia/environments/v1.7/Project.toml`\n",
      "\u001b[32m\u001b[1m  No Changes\u001b[22m\u001b[39m to `~/.julia/environments/v1.7/Manifest.toml`\n"
     ]
    },
    {
     "name": "stdout",
     "output_type": "stream",
     "text": [
      "\r",
      " -----    -----    -----      -      -----   \n",
      "|     |  |     |  |     |    | |    |     |  \n",
      "|     |  |        |         |   |   |     |  \n",
      "|     |   -----   |        |     |  |-----   \n",
      "|     |        |  |        |-----|  |   |    \n",
      "|     |  |     |  |     |  |     |  |    |   \n",
      " -----    -----    -----   -     -  -     -  \n",
      "\n",
      "...combining (and extending) ANTIC, GAP, Polymake and Singular\n",
      "Version\u001b[32m 0.10.0 \u001b[39m... \n",
      " ... which comes with absolutely no warranty whatsoever\n",
      "Type: '?Oscar' for more information\n",
      "(c) 2019-2022 by The Oscar Development Team\n"
     ]
    }
   ],
   "source": [
    "using Pkg\n",
    "Pkg.add(\"XLSX\")\n",
    "Pkg.add(\"Oscar\")\n",
    "import XLSX\n",
    "using Oscar"
   ]
  },
  {
   "cell_type": "markdown",
   "metadata": {},
   "source": [
    "<font size=\"5\">\n",
    "In the first step the variables and the corresponding polynomial ring are defined. The coefficients of the polynomials can either be zero or one only (from the 2-elements field). \n",
    "</font>"
   ]
  },
  {
   "cell_type": "code",
   "execution_count": 2,
   "metadata": {},
   "outputs": [],
   "source": [
    "R1 = ResidueRing(ZZ, 2);\n",
    "vo= [\"w\", \"a\", \"n\", \"v\", \"c\", \"g\"];\n",
    "myR, (w,a,n,v,c,g) = PolynomialRing(R1, vo);\n",
    "myvars=[w,a,n,v,c,g];"
   ]
  },
  {
   "cell_type": "markdown",
   "metadata": {},
   "source": [
    "<font size=\"5\">\n",
    "Now your xlsx-table is loaded. The table consists of entries 0 and 1.\n",
    "The array 'indices' is also loaded. It includes an own labeling of the objects in the table (if wanted). \n",
    "</font>"
   ]
  },
  {
   "cell_type": "code",
   "execution_count": 3,
   "metadata": {},
   "outputs": [],
   "source": [
    "chartable=XLSX.readdata(\"../Data/growingTree.xlsx\", \"Sheet1\", \"A2:F19\");\n",
    "indices=1:18;"
   ]
  },
  {
   "cell_type": "markdown",
   "metadata": {},
   "source": [
    "<font size=\"5\">\n",
    "The analysis can be restricted to a subset of the characteristics. Select some of them.\n",
    "</font>"
   ]
  },
  {
   "cell_type": "code",
   "execution_count": 4,
   "metadata": {},
   "outputs": [
    {
     "data": {
      "text/plain": [
       "1:6"
      ]
     },
     "execution_count": 4,
     "metadata": {},
     "output_type": "execute_result"
    }
   ],
   "source": [
    "varnum=6; choice=1:6"
   ]
  },
  {
   "cell_type": "markdown",
   "metadata": {},
   "source": [
    "<font size=\"5\">\n",
    "According to your choice, the Boolean entries are transformed into an array of polynomials.\n",
    "</font>"
   ]
  },
  {
   "cell_type": "code",
   "execution_count": 5,
   "metadata": {},
   "outputs": [],
   "source": [
    "chartable=chartable[:,choice];\n",
    "myvars=myvars[choice];\n",
    "expr_list=prod(myvars+ myvars.^0 -chartable[1,:]); \n",
    "for i=2:size(chartable,1)\n",
    "    expr_list=vcat(expr_list, prod(myvars+ myvars.^0 -chartable[i,:])); \n",
    "end"
   ]
  },
  {
   "cell_type": "markdown",
   "metadata": {},
   "source": [
    "<font size=\"5\">\n",
    "For the weighting of the monomials, we do some statistics about the marginal distribution of characteristics\n",
    "</font>"
   ]
  },
  {
   "cell_type": "code",
   "execution_count": 6,
   "metadata": {
    "scrolled": true
   },
   "outputs": [
    {
     "name": "stdout",
     "output_type": "stream",
     "text": [
      "w true=9 false=9\n",
      "a true=6 false=12\n",
      "n true=6 false=12\n",
      "v true=6 false=12\n",
      "c true=12 false=6\n",
      "g true=10 false=8\n"
     ]
    },
    {
     "data": {
      "text/plain": [
       "6-element Vector{Int64}:\n",
       " 81\n",
       " 72\n",
       " 72\n",
       " 72\n",
       " 72\n",
       " 80"
      ]
     },
     "execution_count": 6,
     "metadata": {},
     "output_type": "execute_result"
    }
   ],
   "source": [
    "monweight=ones(Int,varnum);\n",
    "for i=1:size(myvars,1)\n",
    "    print(myvars[i]);\n",
    "    print(\" true=\");\n",
    "    print(sum(chartable[:,i]));\n",
    "    print(\" false=\");\n",
    "    print(size(chartable,1)-sum(chartable[:,i]));\n",
    "    print(\"\\n\");\n",
    "    monweight[i]=sum(chartable[:,i])*(size(chartable,1)-sum(chartable[:,i]));\n",
    "end\n",
    "monweight"
   ]
  },
  {
   "cell_type": "markdown",
   "metadata": {},
   "source": [
    "<font size=\"5\">\n",
    "The algorithm generates an ideal in the set of Boolean Polynomials. This ideal represents every combination of characteristics which is not to be found in your table. The Gröbner Basis of this ideal is computed.\n",
    "</font>"
   ]
  },
  {
   "cell_type": "code",
   "execution_count": 8,
   "metadata": {},
   "outputs": [
    {
     "data": {
      "text/plain": [
       "15-element Vector{nmod_mpoly}:\n",
       " c^2 + c\n",
       " v*c + v\n",
       " v^2 + v\n",
       " n^2 + n\n",
       " a*n\n",
       " a^2 + a\n",
       " w*v + w*c + v*g + v + c*g + c\n",
       " w*n + n*c + n*g\n",
       " g^2 + g\n",
       " w*c + w*g + w\n",
       " w^2 + w\n",
       " n*c*g + n*c + n*g + n + c*g + c + g + 1\n",
       " a*c*g + a*c + a*g + a\n",
       " a*v*g\n",
       " w*a*c + w*c + a*v*g + a*g + a + c*g + c"
      ]
     },
     "execution_count": 8,
     "metadata": {},
     "output_type": "execute_result"
    }
   ],
   "source": [
    "uq_expr_list=unique(expr_list);\n",
    "expr=sum(uq_expr_list)+1;\n",
    "generator=myvars.^2+myvars;\n",
    "Y, m = quo(myR, ideal(myR, vcat(generator, expr)));\n",
    "GB = groebner_basis(ideal(myR, vcat(generator, expr)), ordering = wdeglex(gens(myR),monweight))"
   ]
  },
  {
   "cell_type": "markdown",
   "metadata": {},
   "source": [
    "<font size=\"5\">\n",
    "According to the \"rules\" included in the Gröbner Basis the simplification can be applied to all entries in the loaded table:\n",
    "</font>"
   ]
  },
  {
   "cell_type": "code",
   "execution_count": 8,
   "metadata": {},
   "outputs": [
    {
     "name": "stdout",
     "output_type": "stream",
     "text": [
      "\u001b[31m1\u001b[39m \u001b[31m (#\u001b[39m\u001b[31m1\u001b[39m\u001b[31m)\u001b[39m\n",
      "\u001b[32m1 * g * (c + 1) * (v + 1) * (n + 1) * (a + 1) * (w + 1)\u001b[39m\n",
      "\u001b[0m\u001b[1mw*a*g + w*g + a*c + a + c*g + g\u001b[22m\n",
      "\n",
      "\u001b[31m2\u001b[39m \u001b[31m (#\u001b[39m\u001b[31m1\u001b[39m\u001b[31m)\u001b[39m\n",
      "\u001b[32m1 * c * g * (v + 1) * (n + 1) * (a + 1) * (w + 1)\u001b[39m\n",
      "\u001b[0m\u001b[1ma*c + a*g + a + n*v*g + n*c + n*g + n + v*g + c + g + 1\u001b[22m\n",
      "\n",
      "\u001b[31m3\u001b[39m \u001b[31m (#\u001b[39m\u001b[31m1\u001b[39m\u001b[31m)\u001b[39m\n",
      "\u001b[32m1 * v * c * g * (n + 1) * (a + 1) * (w + 1)\u001b[39m\n",
      "\u001b[0m\u001b[1mn*v*g + v*g\u001b[22m\n",
      "\n",
      "\u001b[31m4\u001b[39m \u001b[31m (#\u001b[39m\u001b[31m1\u001b[39m\u001b[31m)\u001b[39m\n",
      "\u001b[32m1 * n * (g + 1) * (c + 1) * (v + 1) * (a + 1) * (w + 1)\u001b[39m\n",
      "\u001b[0m\u001b[1mc*g + c + g + 1\u001b[22m\n",
      "\n",
      "\u001b[31m5\u001b[39m \u001b[31m (#\u001b[39m\u001b[31m1\u001b[39m\u001b[31m)\u001b[39m\n",
      "\u001b[32m1 * n * c * g * (v + 1) * (a + 1) * (w + 1)\u001b[39m\n",
      "\u001b[0m\u001b[1mn*v*g + n*c + n*g + n + c*g + c + g + 1\u001b[22m\n",
      "\n",
      "\u001b[31m6\u001b[39m \u001b[31m (#\u001b[39m\u001b[31m1\u001b[39m\u001b[31m)\u001b[39m\n",
      "\u001b[32m1 * n * v * c * g * (a + 1) * (w + 1)\u001b[39m\n",
      "\u001b[0m\u001b[1mn*v*g\u001b[22m\n",
      "\n",
      "\u001b[31m7\u001b[39m \u001b[31m (#\u001b[39m\u001b[31m1\u001b[39m\u001b[31m)\u001b[39m\n",
      "\u001b[32m1 * a * g * (c + 1) * (v + 1) * (n + 1) * (w + 1)\u001b[39m\n",
      "\u001b[0m\u001b[1mw*a*g + a*c + a\u001b[22m\n",
      "\n",
      "\u001b[31m8\u001b[39m \u001b[31m (#\u001b[39m\u001b[31m1\u001b[39m\u001b[31m)\u001b[39m\n",
      "\u001b[32m1 * a * c * g * (v + 1) * (n + 1) * (w + 1)\u001b[39m\n",
      "\u001b[0m\u001b[1ma*c + a*g + a\u001b[22m\n",
      "\n",
      "\u001b[31m9\u001b[39m \u001b[31m (#\u001b[39m\u001b[31m1\u001b[39m\u001b[31m)\u001b[39m\n",
      "\u001b[32m1 * a * v * c * (g + 1) * (n + 1) * (w + 1)\u001b[39m\n",
      "\u001b[0m\u001b[1mw*a*g + w*a + a*g + a\u001b[22m\n",
      "\n",
      "\u001b[31m10\u001b[39m \u001b[31m (#\u001b[39m\u001b[31m1\u001b[39m\u001b[31m)\u001b[39m\n",
      "\u001b[32m1 * w * g * (c + 1) * (v + 1) * (n + 1) * (a + 1)\u001b[39m\n",
      "\u001b[0m\u001b[1mw*a*g + w*g + n*c + n + c*g + c + g + 1\u001b[22m\n",
      "\n",
      "\u001b[31m11\u001b[39m \u001b[31m (#\u001b[39m\u001b[31m1\u001b[39m\u001b[31m)\u001b[39m\n",
      "\u001b[32m1 * w * c * (g + 1) * (v + 1) * (n + 1) * (a + 1)\u001b[39m\n",
      "\u001b[0m\u001b[1ma*v + a*g + a + n*v*g + n*v + n*g + n + v*g + v + g + 1\u001b[22m\n",
      "\n",
      "\u001b[31m12\u001b[39m \u001b[31m (#\u001b[39m\u001b[31m1\u001b[39m\u001b[31m)\u001b[39m\n",
      "\u001b[32m1 * w * v * c * (g + 1) * (n + 1) * (a + 1)\u001b[39m\n",
      "\u001b[0m\u001b[1mw*a*g + w*a + w*g + w + a*v + a*g + a + n*v*g + n*v + v*g + v + c*g + c\u001b[22m\n",
      "\n",
      "\u001b[31m13\u001b[39m \u001b[31m (#\u001b[39m\u001b[31m1\u001b[39m\u001b[31m)\u001b[39m\n",
      "\u001b[32m1 * w * n * g * (c + 1) * (v + 1) * (a + 1)\u001b[39m\n",
      "\u001b[0m\u001b[1mn*c + n + c*g + c + g + 1\u001b[22m\n",
      "\n",
      "\u001b[31m14\u001b[39m \u001b[31m (#\u001b[39m\u001b[31m1\u001b[39m\u001b[31m)\u001b[39m\n",
      "\u001b[32m1 * w * n * c * (g + 1) * (v + 1) * (a + 1)\u001b[39m\n",
      "\u001b[0m\u001b[1mn*v*g + n*v + n*g + n + c*g + c + g + 1\u001b[22m\n",
      "\n",
      "\u001b[31m15\u001b[39m \u001b[31m (#\u001b[39m\u001b[31m1\u001b[39m\u001b[31m)\u001b[39m\n",
      "\u001b[32m1 * w * n * v * c * (g + 1) * (a + 1)\u001b[39m\n",
      "\u001b[0m\u001b[1mn*v*g + n*v\u001b[22m\n",
      "\n",
      "\u001b[31m16\u001b[39m \u001b[31m (#\u001b[39m\u001b[31m1\u001b[39m\u001b[31m)\u001b[39m\n",
      "\u001b[32m1 * w * a * g * (c + 1) * (v + 1) * (n + 1)\u001b[39m\n",
      "\u001b[0m\u001b[1mw*a*g\u001b[22m\n",
      "\n",
      "\u001b[31m17\u001b[39m \u001b[31m (#\u001b[39m\u001b[31m1\u001b[39m\u001b[31m)\u001b[39m\n",
      "\u001b[32m1 * w * a * c * (g + 1) * (v + 1) * (n + 1)\u001b[39m\n",
      "\u001b[0m\u001b[1ma*v + a*g + a\u001b[22m\n",
      "\n",
      "\u001b[31m18\u001b[39m \u001b[31m (#\u001b[39m\u001b[31m1\u001b[39m\u001b[31m)\u001b[39m\n",
      "\u001b[32m1 * w * a * v * c * (g + 1) * (n + 1)\u001b[39m\n",
      "\u001b[0m\u001b[1mw*a*g + w*a + a*v + a*g + a\u001b[22m\n",
      "\n"
     ]
    }
   ],
   "source": [
    "wrtnorm=0;\n",
    "for i = 1:size(uq_expr_list,1)\n",
    "    res=normal_form(uq_expr_list[i],GB);\n",
    "    counter=0;\n",
    "    for j = 1:size(expr_list,1)\n",
    "        if (uq_expr_list[i]==expr_list[j])\n",
    "            counter=counter+1;\n",
    "            printstyled(indices[j], color=:red);\n",
    "            print(\" \");\n",
    "        end\n",
    "    end\n",
    "    printstyled(\" (#\", color=:red);\n",
    "    printstyled(counter, color=:red);\n",
    "    printstyled(\")\", color=:red);\n",
    "    print(\"\\n\");\n",
    "    printstyled(factor(uq_expr_list[i]), color=:green);\n",
    "    if (wrtnorm==1)\n",
    "        printstyled(\"=\\n\", color=:green);\n",
    "        printstyled(uq_expr_list[i], color=:green);\n",
    "    end\n",
    "    print(\"\\n\");\n",
    "    printstyled(res, bold=:true);\n",
    "    print(\"\\n\\n\");\n",
    "end"
   ]
  },
  {
   "cell_type": "code",
   "execution_count": null,
   "metadata": {},
   "outputs": [],
   "source": []
  },
  {
   "cell_type": "code",
   "execution_count": null,
   "metadata": {},
   "outputs": [],
   "source": []
  }
 ],
 "metadata": {
  "kernelspec": {
   "display_name": "Julia 1.7.3",
   "language": "julia",
   "name": "julia-1.7"
  },
  "language_info": {
   "file_extension": ".jl",
   "mimetype": "application/julia",
   "name": "julia",
   "version": "1.7.3"
  }
 },
 "nbformat": 4,
 "nbformat_minor": 4
}
