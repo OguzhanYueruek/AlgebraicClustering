{
 "cells": [
  {
   "cell_type": "code",
   "execution_count": 1,
   "metadata": {},
   "outputs": [
    {
     "name": "stderr",
     "output_type": "stream",
     "text": [
      "\u001b[32m\u001b[1m    Updating\u001b[22m\u001b[39m registry at `~/.julia/registries/General`\n",
      "\u001b[32m\u001b[1m   Resolving\u001b[22m\u001b[39m package versions...\n",
      "\u001b[32m\u001b[1m   Installed\u001b[22m\u001b[39m snappy_jll ─ v1.1.9+1\n",
      "\u001b[32m\u001b[1m  No Changes\u001b[22m\u001b[39m to `~/.julia/environments/v1.6/Project.toml`\n",
      "\u001b[32m\u001b[1m    Updating\u001b[22m\u001b[39m `~/.julia/environments/v1.6/Manifest.toml`\n",
      " \u001b[90m [fe1e1685] \u001b[39m\u001b[93m↑ snappy_jll v1.1.9+0 ⇒ v1.1.9+1\u001b[39m\n",
      "\u001b[32m\u001b[1mPrecompiling\u001b[22m\u001b[39m project...\n",
      "\u001b[32m  ✓ \u001b[39m\u001b[90msnappy_jll\u001b[39m\n",
      "\u001b[32m  ✓ \u001b[39m\u001b[90mMongoC_jll\u001b[39m\n",
      "\u001b[32m  ✓ \u001b[39m\u001b[90mMongoc\u001b[39m\n",
      "\u001b[32m  ✓ \u001b[39mPolymake\n",
      "\u001b[32m  ✓ \u001b[39mOscar\n",
      "  5 dependencies successfully precompiled in 56 seconds (79 already precompiled)\n"
     ]
    },
    {
     "name": "stdout",
     "output_type": "stream",
     "text": [
      " -----    -----    -----      -      -----   \n",
      "|     |  |     |  |     |    | |    |     |  \n",
      "|     |  |        |         |   |   |     |  \n",
      "|     |   -----   |        |     |  |-----   \n",
      "|     |        |  |        |-----|  |   |    \n",
      "|     |  |     |  |     |  |     |  |    |   \n",
      " -----    -----    -----   -     -  -     -  \n",
      "\n",
      "...combining (and extending) ANTIC, GAP, Polymake and Singular\n",
      "Version\u001b[32m 0.8.2 \u001b[39m... \n",
      " ... which comes with absolutely no warranty whatsoever\n",
      "Type: '?Oscar' for more information\n",
      "(c) 2019-2022 by The Oscar Development Team\n"
     ]
    }
   ],
   "source": [
    "using Pkg\n",
    "Pkg.add(\"XLSX\")\n",
    "import XLSX\n",
    "\n",
    "#Load Oscar\n",
    "using Oscar"
   ]
  },
  {
   "cell_type": "markdown",
   "metadata": {},
   "source": [
    "<font size=\"5\">\n",
    "In the first step the variables and the corresponding polynomial ring are defined. The coefficients of the polynomials can either be zero or one only (from the 2-elements field). \n",
    "</font>"
   ]
  },
  {
   "cell_type": "code",
   "execution_count": 2,
   "metadata": {},
   "outputs": [],
   "source": [
    "R1 = ResidueRing(ZZ, 2);\n",
    "myR, (A, h, H, a, x, X) = PolynomialRing(R1, [\"A\", \"h\", \"H\", \"a\", \"x\", \"X\"]);\n",
    "myvars=[A, h, H, a, x, X];"
   ]
  },
  {
   "cell_type": "markdown",
   "metadata": {},
   "source": [
    "<font size=\"5\">\n",
    "Now your xlsx-table is loaded. The table consists of entries 0 and 1.\n",
    "The array 'indices' is also loaded. It includes an own labeling of the objects in the table (if wanted).\n",
    "</font>"
   ]
  },
  {
   "cell_type": "code",
   "execution_count": 7,
   "metadata": {},
   "outputs": [],
   "source": [
    "chartable=XLSX.readdata(\"../Data/Karnak_choice.xlsx\", \"Analysis_09_02_22\", \"A2:F496\");\n",
    "indices=1:495;"
   ]
  },
  {
   "cell_type": "markdown",
   "metadata": {},
   "source": [
    "<font size=\"5\">\n",
    "The analysis can be restricted to a subset of the characteristics. Select some of them.\n",
    "</font>"
   ]
  },
  {
   "cell_type": "code",
   "execution_count": 4,
   "metadata": {},
   "outputs": [
    {
     "data": {
      "text/plain": [
       "1:6"
      ]
     },
     "execution_count": 4,
     "metadata": {},
     "output_type": "execute_result"
    }
   ],
   "source": [
    "varnum=6; choice=1:6"
   ]
  },
  {
   "cell_type": "markdown",
   "metadata": {},
   "source": [
    "<font size=\"5\">\n",
    "According to your choice, the Boolean entries are transformed into an array of polynomials.\n",
    "</font>"
   ]
  },
  {
   "cell_type": "code",
   "execution_count": 5,
   "metadata": {},
   "outputs": [],
   "source": [
    "chartable=chartable[:,choice];\n",
    "myvars=myvars[choice];\n",
    "expr_list=prod(myvars+ myvars.^0 -chartable[1,:]); \n",
    "for i=2:size(chartable,1)\n",
    "    expr_list=vcat(expr_list, prod(myvars+ myvars.^0 -chartable[i,:])); \n",
    "end"
   ]
  },
  {
   "cell_type": "markdown",
   "metadata": {},
   "source": [
    "<font size=\"5\">\n",
    "For the weighting of the monomials, we do some statistics about the marginal distribution of characteristics\n",
    "</font>"
   ]
  },
  {
   "cell_type": "code",
   "execution_count": 6,
   "metadata": {
    "scrolled": true
   },
   "outputs": [
    {
     "name": "stdout",
     "output_type": "stream",
     "text": [
      "A true=170 false=325\n",
      "h true=94 false=401\n",
      "H true=58 false=437\n",
      "a true=203 false=292\n",
      "x true=152 false=343\n",
      "X true=17 false=478\n"
     ]
    },
    {
     "data": {
      "text/plain": [
       "6-element Vector{Int64}:\n",
       " 55250\n",
       " 37694\n",
       " 25346\n",
       " 59276\n",
       " 52136\n",
       "  8126"
      ]
     },
     "execution_count": 6,
     "metadata": {},
     "output_type": "execute_result"
    }
   ],
   "source": [
    "monweight=ones(Int,varnum);\n",
    "for i=1:size(myvars,1)\n",
    "    print(myvars[i]);\n",
    "    print(\" true=\");\n",
    "    print(sum(chartable[:,i]));\n",
    "    print(\" false=\");\n",
    "    print(size(chartable,1)-sum(chartable[:,i]));\n",
    "    print(\"\\n\");\n",
    "    monweight[i]=sum(chartable[:,i])*(size(chartable,1)-sum(chartable[:,i]));\n",
    "end\n",
    "monweight"
   ]
  },
  {
   "cell_type": "markdown",
   "metadata": {},
   "source": [
    "<font size=\"5\">\n",
    "The algorithm generates an ideal in the set of Boolean Polynomials. This ideal represents every combination of characteristics which is not to be found in your table. The Gröbner Basis of this ideal is computed.\n",
    "</font>"
   ]
  },
  {
   "cell_type": "code",
   "execution_count": 7,
   "metadata": {},
   "outputs": [
    {
     "data": {
      "text/plain": [
       "16-element Vector{nmod_mpoly}:\n",
       " X^2 + X\n",
       " h*X + H*X\n",
       " H^2 + H\n",
       " h^2 + h\n",
       " A*H*X + H*X\n",
       " H*a*X + H*x*X\n",
       " x^2 + x\n",
       " A^2 + A\n",
       " h*H*x + H*x\n",
       " A*x*X + x*X\n",
       " A*h*H + A*H + h*H + H\n",
       " a^2 + a\n",
       " h*H*a + H*a\n",
       " A*H*x + H*x\n",
       " A*H*a + A*H + h*H*a + H\n",
       " A*h*H*a + A*h*H*x + A*h*H + A*h*a*x + A*h*x + h*H*a + h*H*x + h*H + h*a*x + h*x"
      ]
     },
     "execution_count": 7,
     "metadata": {},
     "output_type": "execute_result"
    }
   ],
   "source": [
    "uq_expr_list=unique(expr_list);\n",
    "expr=sum(uq_expr_list)+1;\n",
    "generator=myvars.^2+myvars; II=ideal(myR, vcat(generator, expr));\n",
    "Y, m = quo(myR, II);\n",
    "GB = groebner_basis(II, wdeglex(gens(myR),monweight))"
   ]
  },
  {
   "cell_type": "markdown",
   "metadata": {},
   "source": [
    "<font size=\"5\">\n",
    "According to the \"rules\" included in the Gröbner Basis the simplification can be applied to all entries in the loaded table:\n",
    "</font>"
   ]
  },
  {
   "cell_type": "code",
   "execution_count": 8,
   "metadata": {},
   "outputs": [
    {
     "name": "stdout",
     "output_type": "stream",
     "text": [
      "\u001b[31m1\u001b[39m \u001b[31m14\u001b[39m \u001b[31m263\u001b[39m \u001b[31m268\u001b[39m \u001b[31m273\u001b[39m \u001b[31m293\u001b[39m \u001b[31m335\u001b[39m \u001b[31m338\u001b[39m \u001b[31m371\u001b[39m \u001b[31m430\u001b[39m \u001b[31m436\u001b[39m \u001b[31m449\u001b[39m \u001b[31m451\u001b[39m \u001b[31m469\u001b[39m \u001b[31m483\u001b[39m \u001b[31m (#\u001b[39m\u001b[31m15\u001b[39m\u001b[31m)\u001b[39m\n",
      "\u001b[32m1 * A * x * (X + 1) * (a + 1) * (H + 1) * (h + 1)\u001b[39m\n",
      "\u001b[0m\u001b[1mA*h*a*x + A*h*x + A*a*x + A*x + a*x*X + x*X\u001b[22m\n",
      "\n",
      "\u001b[31m2\u001b[39m \u001b[31m13\u001b[39m \u001b[31m15\u001b[39m \u001b[31m55\u001b[39m \u001b[31m108\u001b[39m \u001b[31m140\u001b[39m \u001b[31m202\u001b[39m \u001b[31m206\u001b[39m \u001b[31m234\u001b[39m \u001b[31m282\u001b[39m \u001b[31m421\u001b[39m \u001b[31m428\u001b[39m \u001b[31m442\u001b[39m \u001b[31m443\u001b[39m \u001b[31m445\u001b[39m \u001b[31m463\u001b[39m \u001b[31m467\u001b[39m \u001b[31m468\u001b[39m \u001b[31m492\u001b[39m \u001b[31m493\u001b[39m \u001b[31m (#\u001b[39m\u001b[31m20\u001b[39m\u001b[31m)\u001b[39m\n",
      "\u001b[32m1 * A * a * x * (X + 1) * (H + 1) * (h + 1)\u001b[39m\n",
      "\u001b[0m\u001b[1mA*h*a*x + A*a*x + H*x*X + a*x*X\u001b[22m\n",
      "\n",
      "\u001b[31m3\u001b[39m \u001b[31m (#\u001b[39m\u001b[31m1\u001b[39m\u001b[31m)\u001b[39m\n",
      "\u001b[32m1 * A * H * (X + 1) * (x + 1) * (a + 1) * (h + 1)\u001b[39m\n",
      "\u001b[0m\u001b[1mh*H + H\u001b[22m\n",
      "\n",
      "\u001b[31m4\u001b[39m \u001b[31m6\u001b[39m \u001b[31m7\u001b[39m \u001b[31m9\u001b[39m \u001b[31m18\u001b[39m \u001b[31m19\u001b[39m \u001b[31m20\u001b[39m \u001b[31m22\u001b[39m \u001b[31m23\u001b[39m \u001b[31m25\u001b[39m \u001b[31m26\u001b[39m \u001b[31m27\u001b[39m \u001b[31m28\u001b[39m \u001b[31m30\u001b[39m \u001b[31m38\u001b[39m \u001b[31m39\u001b[39m \u001b[31m41\u001b[39m \u001b[31m42\u001b[39m \u001b[31m43\u001b[39m \u001b[31m44\u001b[39m \u001b[31m45\u001b[39m \u001b[31m47\u001b[39m \u001b[31m49\u001b[39m \u001b[31m50\u001b[39m \u001b[31m51\u001b[39m \u001b[31m53\u001b[39m \u001b[31m54\u001b[39m \u001b[31m56\u001b[39m \u001b[31m57\u001b[39m \u001b[31m58\u001b[39m \u001b[31m60\u001b[39m \u001b[31m61\u001b[39m \u001b[31m64\u001b[39m \u001b[31m65\u001b[39m \u001b[31m66\u001b[39m \u001b[31m67\u001b[39m \u001b[31m70\u001b[39m \u001b[31m71\u001b[39m \u001b[31m72\u001b[39m \u001b[31m73\u001b[39m \u001b[31m75\u001b[39m \u001b[31m77\u001b[39m \u001b[31m80\u001b[39m \u001b[31m81\u001b[39m \u001b[31m82\u001b[39m \u001b[31m85\u001b[39m \u001b[31m86\u001b[39m \u001b[31m87\u001b[39m \u001b[31m88\u001b[39m \u001b[31m89\u001b[39m \u001b[31m90\u001b[39m \u001b[31m91\u001b[39m \u001b[31m92\u001b[39m \u001b[31m94\u001b[39m \u001b[31m95\u001b[39m \u001b[31m98\u001b[39m \u001b[31m100\u001b[39m \u001b[31m101\u001b[39m \u001b[31m102\u001b[39m \u001b[31m103\u001b[39m \u001b[31m104\u001b[39m \u001b[31m105\u001b[39m \u001b[31m112\u001b[39m \u001b[31m113\u001b[39m \u001b[31m116\u001b[39m \u001b[31m117\u001b[39m \u001b[31m118\u001b[39m \u001b[31m119\u001b[39m \u001b[31m122\u001b[39m \u001b[31m130\u001b[39m \u001b[31m137\u001b[39m \u001b[31m144\u001b[39m \u001b[31m145\u001b[39m \u001b[31m148\u001b[39m \u001b[31m150\u001b[39m \u001b[31m151\u001b[39m \u001b[31m152\u001b[39m \u001b[31m154\u001b[39m \u001b[31m155\u001b[39m \u001b[31m156\u001b[39m \u001b[31m158\u001b[39m \u001b[31m159\u001b[39m \u001b[31m160\u001b[39m \u001b[31m161\u001b[39m \u001b[31m165\u001b[39m \u001b[31m171\u001b[39m \u001b[31m173\u001b[39m \u001b[31m176\u001b[39m \u001b[31m182\u001b[39m \u001b[31m185\u001b[39m \u001b[31m186\u001b[39m \u001b[31m187\u001b[39m \u001b[31m189\u001b[39m \u001b[31m190\u001b[39m \u001b[31m192\u001b[39m \u001b[31m193\u001b[39m \u001b[31m194\u001b[39m \u001b[31m195\u001b[39m \u001b[31m196\u001b[39m \u001b[31m197\u001b[39m \u001b[31m198\u001b[39m \u001b[31m203\u001b[39m \u001b[31m204\u001b[39m \u001b[31m207\u001b[39m \u001b[31m209\u001b[39m \u001b[31m212\u001b[39m \u001b[31m213\u001b[39m \u001b[31m216\u001b[39m \u001b[31m217\u001b[39m \u001b[31m219\u001b[39m \u001b[31m220\u001b[39m \u001b[31m224\u001b[39m \u001b[31m226\u001b[39m \u001b[31m227\u001b[39m \u001b[31m228\u001b[39m \u001b[31m229\u001b[39m \u001b[31m230\u001b[39m \u001b[31m231\u001b[39m \u001b[31m232\u001b[39m \u001b[31m237\u001b[39m \u001b[31m238\u001b[39m \u001b[31m239\u001b[39m \u001b[31m241\u001b[39m \u001b[31m243\u001b[39m \u001b[31m244\u001b[39m \u001b[31m246\u001b[39m \u001b[31m248\u001b[39m \u001b[31m249\u001b[39m \u001b[31m250\u001b[39m \u001b[31m251\u001b[39m \u001b[31m257\u001b[39m \u001b[31m259\u001b[39m \u001b[31m261\u001b[39m \u001b[31m262\u001b[39m \u001b[31m266\u001b[39m \u001b[31m267\u001b[39m \u001b[31m276\u001b[39m \u001b[31m277\u001b[39m \u001b[31m278\u001b[39m \u001b[31m280\u001b[39m \u001b[31m300\u001b[39m \u001b[31m301\u001b[39m \u001b[31m302\u001b[39m \u001b[31m307\u001b[39m \u001b[31m314\u001b[39m \u001b[31m320\u001b[39m \u001b[31m324\u001b[39m \u001b[31m327\u001b[39m \u001b[31m331\u001b[39m \u001b[31m344\u001b[39m \u001b[31m360\u001b[39m \u001b[31m361\u001b[39m \u001b[31m362\u001b[39m \u001b[31m368\u001b[39m \u001b[31m372\u001b[39m \u001b[31m374\u001b[39m \u001b[31m379\u001b[39m \u001b[31m383\u001b[39m \u001b[31m393\u001b[39m \u001b[31m394\u001b[39m \u001b[31m395\u001b[39m \u001b[31m399\u001b[39m \u001b[31m403\u001b[39m \u001b[31m410\u001b[39m \u001b[31m417\u001b[39m \u001b[31m420\u001b[39m \u001b[31m425\u001b[39m \u001b[31m434\u001b[39m \u001b[31m438\u001b[39m \u001b[31m439\u001b[39m \u001b[31m453\u001b[39m \u001b[31m462\u001b[39m \u001b[31m473\u001b[39m \u001b[31m474\u001b[39m \u001b[31m (#\u001b[39m\u001b[31m174\u001b[39m\u001b[31m)\u001b[39m\n",
      "\u001b[32m1 * (X + 1) * (x + 1) * (a + 1) * (H + 1) * (h + 1) * (A + 1)\u001b[39m\n",
      "\u001b[0m\u001b[1mA*h*a*x + A*h*a + A*h*x + A*h + A*a*x + A*a*X + A*a + A*x + A*X + A + h*a*x + h*a + h*x + h + a*x + a*X + a + x + X + 1\u001b[22m\n",
      "\n",
      "\u001b[31m5\u001b[39m \u001b[31m124\u001b[39m \u001b[31m164\u001b[39m \u001b[31m178\u001b[39m \u001b[31m181\u001b[39m \u001b[31m288\u001b[39m \u001b[31m345\u001b[39m \u001b[31m346\u001b[39m \u001b[31m358\u001b[39m \u001b[31m369\u001b[39m \u001b[31m392\u001b[39m \u001b[31m423\u001b[39m \u001b[31m431\u001b[39m \u001b[31m435\u001b[39m \u001b[31m458\u001b[39m \u001b[31m460\u001b[39m \u001b[31m489\u001b[39m \u001b[31m (#\u001b[39m\u001b[31m17\u001b[39m\u001b[31m)\u001b[39m\n",
      "\u001b[32m1 * A * a * (X + 1) * (x + 1) * (H + 1) * (h + 1)\u001b[39m\n",
      "\u001b[0m\u001b[1mA*h*a*x + A*h*a + A*a*x + A*a*X + A*a + a*x*X\u001b[22m\n",
      "\n",
      "\u001b[31m8\u001b[39m \u001b[31m11\u001b[39m \u001b[31m17\u001b[39m \u001b[31m21\u001b[39m \u001b[31m97\u001b[39m \u001b[31m115\u001b[39m \u001b[31m127\u001b[39m \u001b[31m162\u001b[39m \u001b[31m166\u001b[39m \u001b[31m167\u001b[39m \u001b[31m170\u001b[39m \u001b[31m200\u001b[39m \u001b[31m201\u001b[39m \u001b[31m221\u001b[39m \u001b[31m240\u001b[39m \u001b[31m265\u001b[39m \u001b[31m269\u001b[39m \u001b[31m283\u001b[39m \u001b[31m287\u001b[39m \u001b[31m292\u001b[39m \u001b[31m297\u001b[39m \u001b[31m303\u001b[39m \u001b[31m316\u001b[39m \u001b[31m325\u001b[39m \u001b[31m330\u001b[39m \u001b[31m340\u001b[39m \u001b[31m341\u001b[39m \u001b[31m365\u001b[39m \u001b[31m376\u001b[39m \u001b[31m382\u001b[39m \u001b[31m397\u001b[39m \u001b[31m404\u001b[39m \u001b[31m426\u001b[39m \u001b[31m427\u001b[39m \u001b[31m437\u001b[39m \u001b[31m440\u001b[39m \u001b[31m444\u001b[39m \u001b[31m454\u001b[39m \u001b[31m457\u001b[39m \u001b[31m486\u001b[39m \u001b[31m487\u001b[39m \u001b[31m (#\u001b[39m\u001b[31m41\u001b[39m\u001b[31m)\u001b[39m\n",
      "\u001b[32m1 * a * x * (X + 1) * (H + 1) * (h + 1) * (A + 1)\u001b[39m\n",
      "\u001b[0m\u001b[1mA*h*a*x + A*a*x + h*a*x + a*x\u001b[22m\n",
      "\n",
      "\u001b[31m10\u001b[39m \u001b[31m35\u001b[39m \u001b[31m132\u001b[39m \u001b[31m271\u001b[39m \u001b[31m290\u001b[39m \u001b[31m291\u001b[39m \u001b[31m312\u001b[39m \u001b[31m332\u001b[39m \u001b[31m339\u001b[39m \u001b[31m348\u001b[39m \u001b[31m351\u001b[39m \u001b[31m352\u001b[39m \u001b[31m363\u001b[39m \u001b[31m377\u001b[39m \u001b[31m385\u001b[39m \u001b[31m412\u001b[39m \u001b[31m477\u001b[39m \u001b[31m488\u001b[39m \u001b[31m495\u001b[39m \u001b[31m (#\u001b[39m\u001b[31m19\u001b[39m\u001b[31m)\u001b[39m\n",
      "\u001b[32m1 * A * h * H * a * x * (X + 1)\u001b[39m\n",
      "\u001b[0m\u001b[1mH*a*x + H*x*X\u001b[22m\n",
      "\n",
      "\u001b[31m12\u001b[39m \u001b[31m46\u001b[39m \u001b[31m129\u001b[39m \u001b[31m142\u001b[39m \u001b[31m253\u001b[39m \u001b[31m281\u001b[39m \u001b[31m318\u001b[39m \u001b[31m321\u001b[39m \u001b[31m405\u001b[39m \u001b[31m408\u001b[39m \u001b[31m455\u001b[39m \u001b[31m480\u001b[39m \u001b[31m490\u001b[39m \u001b[31m (#\u001b[39m\u001b[31m13\u001b[39m\u001b[31m)\u001b[39m\n",
      "\u001b[32m1 * A * h * H * (X + 1) * (x + 1) * (a + 1)\u001b[39m\n",
      "\u001b[0m\u001b[1mh*H + H*a*x + H*a + H*x*X + H*x + H*X\u001b[22m\n",
      "\n",
      "\u001b[31m16\u001b[39m \u001b[31m299\u001b[39m \u001b[31m308\u001b[39m \u001b[31m485\u001b[39m \u001b[31m (#\u001b[39m\u001b[31m4\u001b[39m\u001b[31m)\u001b[39m\n",
      "\u001b[32m1 * A * h * H * X * (x + 1) * (a + 1)\u001b[39m\n",
      "\u001b[0m\u001b[1mH*x*X + H*X\u001b[22m\n",
      "\n",
      "\u001b[31m24\u001b[39m \u001b[31m120\u001b[39m \u001b[31m143\u001b[39m \u001b[31m175\u001b[39m \u001b[31m233\u001b[39m \u001b[31m343\u001b[39m \u001b[31m347\u001b[39m \u001b[31m416\u001b[39m \u001b[31m484\u001b[39m \u001b[31m (#\u001b[39m\u001b[31m9\u001b[39m\u001b[31m)\u001b[39m\n",
      "\u001b[32m1 * A * h * H * a * (X + 1) * (x + 1)\u001b[39m\n",
      "\u001b[0m\u001b[1mA*H + H*a*x + H*a + H\u001b[22m\n",
      "\n",
      "\u001b[31m29\u001b[39m \u001b[31m34\u001b[39m \u001b[31m111\u001b[39m \u001b[31m114\u001b[39m \u001b[31m121\u001b[39m \u001b[31m128\u001b[39m \u001b[31m136\u001b[39m \u001b[31m180\u001b[39m \u001b[31m183\u001b[39m \u001b[31m205\u001b[39m \u001b[31m208\u001b[39m \u001b[31m210\u001b[39m \u001b[31m258\u001b[39m \u001b[31m336\u001b[39m \u001b[31m349\u001b[39m \u001b[31m353\u001b[39m \u001b[31m354\u001b[39m \u001b[31m356\u001b[39m \u001b[31m388\u001b[39m \u001b[31m390\u001b[39m \u001b[31m391\u001b[39m \u001b[31m413\u001b[39m \u001b[31m414\u001b[39m \u001b[31m424\u001b[39m \u001b[31m433\u001b[39m \u001b[31m494\u001b[39m \u001b[31m (#\u001b[39m\u001b[31m26\u001b[39m\u001b[31m)\u001b[39m\n",
      "\u001b[32m1 * A * (X + 1) * (x + 1) * (a + 1) * (H + 1) * (h + 1)\u001b[39m\n",
      "\u001b[0m\u001b[1mA*h*a*x + A*h*a + A*h*x + A*h + A*a*x + A*a*X + A*a + A*x + A*X + A + h*H + H*x*X + H*X + H + a*x*X + x*X\u001b[22m\n",
      "\n",
      "\u001b[31m31\u001b[39m \u001b[31m48\u001b[39m \u001b[31m74\u001b[39m \u001b[31m83\u001b[39m \u001b[31m84\u001b[39m \u001b[31m109\u001b[39m \u001b[31m110\u001b[39m \u001b[31m126\u001b[39m \u001b[31m134\u001b[39m \u001b[31m141\u001b[39m \u001b[31m146\u001b[39m \u001b[31m147\u001b[39m \u001b[31m169\u001b[39m \u001b[31m172\u001b[39m \u001b[31m174\u001b[39m \u001b[31m222\u001b[39m \u001b[31m252\u001b[39m \u001b[31m294\u001b[39m \u001b[31m306\u001b[39m \u001b[31m309\u001b[39m \u001b[31m319\u001b[39m \u001b[31m355\u001b[39m \u001b[31m357\u001b[39m \u001b[31m366\u001b[39m \u001b[31m367\u001b[39m \u001b[31m370\u001b[39m \u001b[31m381\u001b[39m \u001b[31m386\u001b[39m \u001b[31m409\u001b[39m \u001b[31m441\u001b[39m \u001b[31m (#\u001b[39m\u001b[31m30\u001b[39m\u001b[31m)\u001b[39m\n",
      "\u001b[32m1 * x * (X + 1) * (a + 1) * (H + 1) * (h + 1) * (A + 1)\u001b[39m\n",
      "\u001b[0m\u001b[1mA*h*a*x + A*h*x + A*a*x + A*x + h*a*x + h*x + a*x + x\u001b[22m\n",
      "\n",
      "\u001b[31m32\u001b[39m \u001b[31m93\u001b[39m \u001b[31m163\u001b[39m \u001b[31m295\u001b[39m \u001b[31m350\u001b[39m \u001b[31m384\u001b[39m \u001b[31m396\u001b[39m \u001b[31m465\u001b[39m \u001b[31m472\u001b[39m \u001b[31m478\u001b[39m \u001b[31m (#\u001b[39m\u001b[31m10\u001b[39m\u001b[31m)\u001b[39m\n",
      "\u001b[32m1 * A * h * H * x * (X + 1) * (a + 1)\u001b[39m\n",
      "\u001b[0m\u001b[1mH*a*x + H*x\u001b[22m\n",
      "\n",
      "\u001b[31m33\u001b[39m \u001b[31m415\u001b[39m \u001b[31m432\u001b[39m \u001b[31m461\u001b[39m \u001b[31m (#\u001b[39m\u001b[31m4\u001b[39m\u001b[31m)\u001b[39m\n",
      "\u001b[32m1 * h * a * (X + 1) * (x + 1) * (H + 1) * (A + 1)\u001b[39m\n",
      "\u001b[0m\u001b[1mA*h*a*x + A*h*a + A*H + h*a*x + h*a + H\u001b[22m\n",
      "\n",
      "\u001b[31m36\u001b[39m \u001b[31m378\u001b[39m \u001b[31m406\u001b[39m \u001b[31m452\u001b[39m \u001b[31m (#\u001b[39m\u001b[31m4\u001b[39m\u001b[31m)\u001b[39m\n",
      "\u001b[32m1 * X * (x + 1) * (a + 1) * (H + 1) * (h + 1) * (A + 1)\u001b[39m\n",
      "\u001b[0m\u001b[1mA*a*X + A*X + a*X + X\u001b[22m\n",
      "\n",
      "\u001b[31m37\u001b[39m \u001b[31m52\u001b[39m \u001b[31m96\u001b[39m \u001b[31m270\u001b[39m \u001b[31m305\u001b[39m \u001b[31m342\u001b[39m \u001b[31m447\u001b[39m \u001b[31m464\u001b[39m \u001b[31m470\u001b[39m \u001b[31m476\u001b[39m \u001b[31m (#\u001b[39m\u001b[31m10\u001b[39m\u001b[31m)\u001b[39m\n",
      "\u001b[32m1 * A * h * a * (X + 1) * (x + 1) * (H + 1)\u001b[39m\n",
      "\u001b[0m\u001b[1mA*h*a*x + A*h*a + A*H + H*a*x + H*a + H\u001b[22m\n",
      "\n",
      "\u001b[31m40\u001b[39m \u001b[31m79\u001b[39m \u001b[31m138\u001b[39m \u001b[31m139\u001b[39m \u001b[31m337\u001b[39m \u001b[31m459\u001b[39m \u001b[31m (#\u001b[39m\u001b[31m6\u001b[39m\u001b[31m)\u001b[39m\n",
      "\u001b[32m1 * A * h * (X + 1) * (x + 1) * (a + 1) * (H + 1)\u001b[39m\n",
      "\u001b[0m\u001b[1mA*h*a*x + A*h*a + A*h*x + A*h + h*H + H*a*x + H*a + H*x\u001b[22m\n",
      "\n",
      "\u001b[31m59\u001b[39m \u001b[31m62\u001b[39m \u001b[31m63\u001b[39m \u001b[31m68\u001b[39m \u001b[31m69\u001b[39m \u001b[31m76\u001b[39m \u001b[31m99\u001b[39m \u001b[31m106\u001b[39m \u001b[31m107\u001b[39m \u001b[31m123\u001b[39m \u001b[31m125\u001b[39m \u001b[31m135\u001b[39m \u001b[31m149\u001b[39m \u001b[31m153\u001b[39m \u001b[31m157\u001b[39m \u001b[31m168\u001b[39m \u001b[31m179\u001b[39m \u001b[31m188\u001b[39m \u001b[31m191\u001b[39m \u001b[31m199\u001b[39m \u001b[31m211\u001b[39m \u001b[31m214\u001b[39m \u001b[31m215\u001b[39m \u001b[31m218\u001b[39m \u001b[31m235\u001b[39m \u001b[31m242\u001b[39m \u001b[31m245\u001b[39m \u001b[31m247\u001b[39m \u001b[31m255\u001b[39m \u001b[31m256\u001b[39m \u001b[31m260\u001b[39m \u001b[31m264\u001b[39m \u001b[31m272\u001b[39m \u001b[31m274\u001b[39m \u001b[31m279\u001b[39m \u001b[31m284\u001b[39m \u001b[31m285\u001b[39m \u001b[31m286\u001b[39m \u001b[31m289\u001b[39m \u001b[31m296\u001b[39m \u001b[31m298\u001b[39m \u001b[31m304\u001b[39m \u001b[31m311\u001b[39m \u001b[31m313\u001b[39m \u001b[31m315\u001b[39m \u001b[31m323\u001b[39m \u001b[31m326\u001b[39m \u001b[31m328\u001b[39m \u001b[31m333\u001b[39m \u001b[31m359\u001b[39m \u001b[31m364\u001b[39m \u001b[31m373\u001b[39m \u001b[31m375\u001b[39m \u001b[31m387\u001b[39m \u001b[31m398\u001b[39m \u001b[31m401\u001b[39m \u001b[31m402\u001b[39m \u001b[31m411\u001b[39m \u001b[31m429\u001b[39m \u001b[31m450\u001b[39m \u001b[31m456\u001b[39m \u001b[31m466\u001b[39m \u001b[31m471\u001b[39m \u001b[31m475\u001b[39m \u001b[31m481\u001b[39m \u001b[31m (#\u001b[39m\u001b[31m65\u001b[39m\u001b[31m)\u001b[39m\n",
      "\u001b[32m1 * a * (X + 1) * (x + 1) * (H + 1) * (h + 1) * (A + 1)\u001b[39m\n",
      "\u001b[0m\u001b[1mA*h*a*x + A*h*a + A*a*x + A*a*X + A*a + h*a*x + h*a + a*x + a*X + a\u001b[22m\n",
      "\n",
      "\u001b[31m78\u001b[39m \u001b[31m236\u001b[39m \u001b[31m317\u001b[39m \u001b[31m422\u001b[39m \u001b[31m (#\u001b[39m\u001b[31m4\u001b[39m\u001b[31m)\u001b[39m\n",
      "\u001b[32m1 * A * h * x * (X + 1) * (a + 1) * (H + 1)\u001b[39m\n",
      "\u001b[0m\u001b[1mA*h*a*x + A*h*x + H*a*x + H*x\u001b[22m\n",
      "\n",
      "\u001b[31m131\u001b[39m \u001b[31m (#\u001b[39m\u001b[31m1\u001b[39m\u001b[31m)\u001b[39m\n",
      "\u001b[32m1 * A * a * x * X * (H + 1) * (h + 1)\u001b[39m\n",
      "\u001b[0m\u001b[1mH*x*X + a*x*X\u001b[22m\n",
      "\n",
      "\u001b[31m133\u001b[39m \u001b[31m418\u001b[39m \u001b[31m446\u001b[39m \u001b[31m (#\u001b[39m\u001b[31m3\u001b[39m\u001b[31m)\u001b[39m\n",
      "\u001b[32m1 * h * (X + 1) * (x + 1) * (a + 1) * (H + 1) * (A + 1)\u001b[39m\n",
      "\u001b[0m\u001b[1mA*h*a*x + A*h*a + A*h*x + A*h + h*a*x + h*a + h*x + h\u001b[22m\n",
      "\n",
      "\u001b[31m177\u001b[39m \u001b[31m482\u001b[39m \u001b[31m (#\u001b[39m\u001b[31m2\u001b[39m\u001b[31m)\u001b[39m\n",
      "\u001b[32m1 * a * X * (x + 1) * (H + 1) * (h + 1) * (A + 1)\u001b[39m\n",
      "\u001b[0m\u001b[1mA*a*X + a*X\u001b[22m\n",
      "\n",
      "\u001b[31m184\u001b[39m \u001b[31m254\u001b[39m \u001b[31m322\u001b[39m \u001b[31m329\u001b[39m \u001b[31m400\u001b[39m \u001b[31m407\u001b[39m \u001b[31m419\u001b[39m \u001b[31m448\u001b[39m \u001b[31m491\u001b[39m \u001b[31m (#\u001b[39m\u001b[31m9\u001b[39m\u001b[31m)\u001b[39m\n",
      "\u001b[32m1 * A * h * a * x * (X + 1) * (H + 1)\u001b[39m\n",
      "\u001b[0m\u001b[1mA*h*a*x + H*a*x\u001b[22m\n",
      "\n",
      "\u001b[31m223\u001b[39m \u001b[31m (#\u001b[39m\u001b[31m1\u001b[39m\u001b[31m)\u001b[39m\n",
      "\u001b[32m1 * A * x * X * (a + 1) * (H + 1) * (h + 1)\u001b[39m\n",
      "\u001b[0m\u001b[1ma*x*X + x*X\u001b[22m\n",
      "\n"
     ]
    },
    {
     "name": "stdout",
     "output_type": "stream",
     "text": [
      "\u001b[31m225\u001b[39m \u001b[31m310\u001b[39m \u001b[31m389\u001b[39m \u001b[31m (#\u001b[39m\u001b[31m3\u001b[39m\u001b[31m)\u001b[39m\n",
      "\u001b[32m1 * A * a * X * (x + 1) * (H + 1) * (h + 1)\u001b[39m\n",
      "\u001b[0m\u001b[1mA*a*X + a*x*X\u001b[22m\n",
      "\n",
      "\u001b[31m275\u001b[39m \u001b[31m (#\u001b[39m\u001b[31m1\u001b[39m\u001b[31m)\u001b[39m\n",
      "\u001b[32m1 * h * a * x * (X + 1) * (H + 1) * (A + 1)\u001b[39m\n",
      "\u001b[0m\u001b[1mA*h*a*x + h*a*x\u001b[22m\n",
      "\n",
      "\u001b[31m334\u001b[39m \u001b[31m (#\u001b[39m\u001b[31m1\u001b[39m\u001b[31m)\u001b[39m\n",
      "\u001b[32m1 * A * X * (x + 1) * (a + 1) * (H + 1) * (h + 1)\u001b[39m\n",
      "\u001b[0m\u001b[1mA*a*X + A*X + H*x*X + H*X + a*x*X + x*X\u001b[22m\n",
      "\n",
      "\u001b[31m380\u001b[39m \u001b[31m (#\u001b[39m\u001b[31m1\u001b[39m\u001b[31m)\u001b[39m\n",
      "\u001b[32m1 * h * H * a * (X + 1) * (x + 1) * (A + 1)\u001b[39m\n",
      "\u001b[0m\u001b[1mA*H + H\u001b[22m\n",
      "\n",
      "\u001b[31m479\u001b[39m \u001b[31m (#\u001b[39m\u001b[31m1\u001b[39m\u001b[31m)\u001b[39m\n",
      "\u001b[32m1 * A * h * H * a * x * X\u001b[39m\n",
      "\u001b[0m\u001b[1mH*x*X\u001b[22m\n",
      "\n"
     ]
    }
   ],
   "source": [
    "for i = 1:size(uq_expr_list,1)\n",
    "    res=normal_form(uq_expr_list[i],GB);\n",
    "    counter=0;\n",
    "    for j = 1:size(expr_list,1)\n",
    "        if (uq_expr_list[i]==expr_list[j])\n",
    "            counter=counter+1;\n",
    "            printstyled(indices[j], color=:red);\n",
    "            print(\" \");\n",
    "        end\n",
    "    end\n",
    "    printstyled(\" (#\", color=:red);\n",
    "    printstyled(counter, color=:red);\n",
    "    printstyled(\")\", color=:red);\n",
    "    print(\"\\n\");\n",
    "    printstyled(factor(uq_expr_list[i]), color=:green);\n",
    "    wrtnorm=0;\n",
    "    if (wrtnorm==1)\n",
    "        printstyled(\"=\\n\", color=:green);\n",
    "        printstyled(uq_expr_list[i], color=:green);\n",
    "    end\n",
    "    print(\"\\n\");\n",
    "    printstyled(res, bold=:true);\n",
    "    print(\"\\n\\n\");\n",
    "end"
   ]
  },
  {
   "cell_type": "code",
   "execution_count": null,
   "metadata": {},
   "outputs": [],
   "source": []
  }
 ],
 "metadata": {
  "kernelspec": {
   "display_name": "Julia 1.6.2",
   "language": "julia",
   "name": "julia-1.6"
  },
  "language_info": {
   "file_extension": ".jl",
   "mimetype": "application/julia",
   "name": "julia",
   "version": "1.6.2"
  }
 },
 "nbformat": 4,
 "nbformat_minor": 4
}
