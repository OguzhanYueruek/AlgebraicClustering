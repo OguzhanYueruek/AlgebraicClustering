{
 "cells": [
  {
   "cell_type": "code",
   "execution_count": 1,
   "metadata": {},
   "outputs": [
    {
     "name": "stderr",
     "output_type": "stream",
     "text": [
      "\u001b[32m\u001b[1m    Updating\u001b[22m\u001b[39m registry at `~/.julia/registries/General`\n",
      "\u001b[32m\u001b[1m   Resolving\u001b[22m\u001b[39m package versions...\n",
      "\u001b[32m\u001b[1m  No Changes\u001b[22m\u001b[39m to `~/.julia/environments/v1.6/Project.toml`\n",
      "\u001b[32m\u001b[1m  No Changes\u001b[22m\u001b[39m to `~/.julia/environments/v1.6/Manifest.toml`\n"
     ]
    },
    {
     "name": "stdout",
     "output_type": "stream",
     "text": [
      " -----    -----    -----      -      -----   \n",
      "|     |  |     |  |     |    | |    |     |  \n",
      "|     |  |        |         |   |   |     |  \n",
      "|     |   -----   |        |     |  |-----   \n",
      "|     |        |  |        |-----|  |   |    \n",
      "|     |  |     |  |     |  |     |  |    |   \n",
      " -----    -----    -----   -     -  -     -  \n",
      "\n",
      "...combining (and extending) ANTIC, GAP, Polymake and Singular\n",
      "Version\u001b[32m 0.8.2 \u001b[39m... \n",
      " ... which comes with absolutely no warranty whatsoever\n",
      "Type: '?Oscar' for more information\n",
      "(c) 2019-2022 by The Oscar Development Team\n"
     ]
    }
   ],
   "source": [
    "using Pkg\n",
    "Pkg.add(\"XLSX\")\n",
    "import XLSX\n",
    "\n",
    "#Load Oscar\n",
    "using Oscar"
   ]
  },
  {
   "cell_type": "markdown",
   "metadata": {},
   "source": [
    "<font size=\"5\">\n",
    "In the first step the variables and the corresponding polynomial ring are defined. The coefficients of the polynomials can either be zero or one only (from the 2-elements field). \n",
    "</font>"
   ]
  },
  {
   "cell_type": "code",
   "execution_count": 2,
   "metadata": {},
   "outputs": [],
   "source": [
    "R1 = ResidueRing(ZZ, 2);\n",
    "vo= [\"e\", \"h\", \"I\", \"a\", \"c\", \"p\", \"H\", \"d\", \"x\"];\n",
    "myR, (e, h, I, a, c, p, H, d, x) = PolynomialRing(R1, vo);\n",
    "myvars=[e, h, I, a, c, p, H, d, x];"
   ]
  },
  {
   "cell_type": "markdown",
   "metadata": {},
   "source": [
    "<font size=\"5\">\n",
    "Now your xlsx-table is loaded. The table consists of entries 0 and 1.\n",
    "The array 'indices' is also loaded. It includes an own labeling of the objects in the table (if wanted). \n",
    "</font>"
   ]
  },
  {
   "cell_type": "code",
   "execution_count": 3,
   "metadata": {},
   "outputs": [],
   "source": [
    "chartable=XLSX.readdata(\"../Data/Retirement_short.xlsx\", \"Tabelle1\", \"A3:I1526\");\n",
    "indices=1:1524;"
   ]
  },
  {
   "cell_type": "markdown",
   "metadata": {},
   "source": [
    "<font size=\"5\">\n",
    "The analysis can be restricted to a subset of the characteristics. Select some of them.\n",
    "</font>"
   ]
  },
  {
   "cell_type": "code",
   "execution_count": 4,
   "metadata": {},
   "outputs": [
    {
     "data": {
      "text/plain": [
       "1:9"
      ]
     },
     "execution_count": 4,
     "metadata": {},
     "output_type": "execute_result"
    }
   ],
   "source": [
    "varnum=9; choice=1:9"
   ]
  },
  {
   "cell_type": "markdown",
   "metadata": {},
   "source": [
    "<font size=\"5\">\n",
    "According to your choice, the Boolean entries are transformed into an array of polynomials.\n",
    "</font>"
   ]
  },
  {
   "cell_type": "code",
   "execution_count": 5,
   "metadata": {},
   "outputs": [],
   "source": [
    "chartable=chartable[:,choice];\n",
    "myvars=myvars[choice];\n",
    "expr_list=prod(myvars+ myvars.^0 -chartable[1,:]); \n",
    "for i=2:size(chartable,1)\n",
    "    expr_list=vcat(expr_list, prod(myvars+ myvars.^0 -chartable[i,:])); \n",
    "end"
   ]
  },
  {
   "cell_type": "markdown",
   "metadata": {},
   "source": [
    "<font size=\"5\">\n",
    "For the weighting of the monomials, we do some statistics about the marginal distribution of characteristics\n",
    "</font>"
   ]
  },
  {
   "cell_type": "code",
   "execution_count": 6,
   "metadata": {
    "scrolled": true
   },
   "outputs": [
    {
     "name": "stdout",
     "output_type": "stream",
     "text": [
      "e true=666 false=858\n",
      "h true=66 false=1458\n",
      "I true=255 false=1269\n",
      "a true=411 false=1113\n",
      "c true=240 false=1284\n",
      "p true=312 false=1212\n",
      "H true=727 false=797\n",
      "d true=374 false=1150\n",
      "x true=255 false=1269\n"
     ]
    },
    {
     "data": {
      "text/plain": [
       "9-element Vector{Int64}:\n",
       " 571428\n",
       "  96228\n",
       " 323595\n",
       " 457443\n",
       " 308160\n",
       " 378144\n",
       " 579419\n",
       " 430100\n",
       " 323595"
      ]
     },
     "execution_count": 6,
     "metadata": {},
     "output_type": "execute_result"
    }
   ],
   "source": [
    "monweight=ones(Int,varnum);\n",
    "for i=1:size(myvars,1)\n",
    "    print(myvars[i]);\n",
    "    print(\" true=\");\n",
    "    print(sum(chartable[:,i]));\n",
    "    print(\" false=\");\n",
    "    print(size(chartable,1)-sum(chartable[:,i]));\n",
    "    print(\"\\n\");\n",
    "    monweight[i]=sum(chartable[:,i])*(size(chartable,1)-sum(chartable[:,i]));\n",
    "end\n",
    "monweight"
   ]
  },
  {
   "cell_type": "markdown",
   "metadata": {},
   "source": [
    "<font size=\"5\">\n",
    "The algorithm generates an ideal in the set of Boolean Polynomials. This ideal represents every combination of characteristics which is not to be found in your table. The Gröbner Basis of this ideal is computed.\n",
    "</font>"
   ]
  },
  {
   "cell_type": "code",
   "execution_count": 7,
   "metadata": {},
   "outputs": [
    {
     "ename": "LoadError",
     "evalue": "MethodError: no method matching ideal(::NmodMPolyRing; ordering=nmod_mpoly[e^2 + e, h^2 + h, I^2 + I, a^2 + a, c^2 + c, p^2 + p, H^2 + H, d^2 + d, x^2 + x, e*h*I*a*c*p*H + e*h*I*a*c*p*d*x + e*h*I*a*c*p*d + e*h*I*a*c*H*d*x + e*h*I*a*c*H*d + e*h*I*a*c*H*x + e*h*I*a*c*d*x + e*h*I*a*c*d + e*h*I*a*c + e*h*I*a*p*H*d + e*h*I*a*p*H*x + e*h*I*a*p*x + e*h*I*a*p + e*h*I*a*H*d + e*h*I*a*H*x + e*h*I*a*H + e*h*I*c*p*H + e*h*I*c*p*d + e*h*I*c*p*x + e*h*I*c*p + e*h*I*c*H*d*x + e*h*I*c*H*x + e*h*I*c*d*x + e*h*I*c*d + e*h*I*c*x + e*h*I*c + e*h*I*p*H*d*x + e*h*I*p*H*x + e*h*I*p*H + e*h*I*H*x + e*h*I*x + e*h*a*c*p*H*d*x + e*h*a*c*p*H*d + e*h*a*c*p*d*x + e*h*a*c*p*d + e*h*a*c*p*x + e*h*a*c*H*d*x + e*h*a*c*d*x + e*h*a*c*d + e*h*a*c*x + e*h*a*p*H*d*x + e*h*a*p*H*x + e*h*a*p*d + e*h*a*p*x + e*h*a*p + e*h*a*H*d + e*h*a*H*x + e*h*a*H + e*h*a*d*x + e*h*a*x + e*h*c*p*H*x + e*h*c*p*H + e*h*c*p*d*x + e*h*c*p*x + e*h*c*H*d*x + e*h*c*H*d + e*h*c*H*x + e*h*c*d*x + e*h*c*d + e*h*p*H*d*x + e*h*p*d + e*h*p*x + e*h*p + e*h*H*d*x + e*h*H*x + e*h*d*x + e*I*a*c*p*H*d + e*I*a*c*p*H*x + e*I*a*c*p*H + e*I*a*c*p*d + e*I*a*c*p*x + e*I*a*c*H + e*I*a*c*d + e*I*a*c*x + e*I*a*c + e*I*a*p*H*d*x + e*I*a*p*d*x + e*I*a*p + e*I*a*H*d + e*I*a*d*x + e*I*a*x + e*I*c*p*H*x + e*I*c*p*H + e*I*c*H*d*x + e*I*c*H*d + e*I*c*H*x + e*I*c*H + e*I*c*d + e*I*c*x + e*I*c + e*I*p*d*x + e*I*H*d*x + e*I*d*x + e*I*x + e*a*c*p*H*d + e*a*c*p*H + e*a*c*p*d + e*a*c*H*d*x + e*a*c*H*d + e*a*c*d + e*a*p*x + e*c*p*H*d*x + e*c*p*x + e*c*H*d + e*c*d + h*I*a*c*p*H*d*x + h*I*a*c*p*H*d + h*I*a*c*p + h*I*a*c*H*x + h*I*a*c*d*x + h*I*a*c*x + h*I*a*c + h*I*a*p*H*d + h*I*a*p*d*x + h*I*a*p*d + h*I*a*p*x + h*I*a*p + h*I*a*H*d*x + h*I*a*H*x + h*I*a*d + h*I*c*p*H*x + h*I*c*p*d*x + h*I*c*p*d + h*I*c*p + h*I*c*H*x + h*I*c*H + h*I*c*d + h*I*c*x + h*I*p*H*d*x + h*I*p*H*x + h*I*p*H + h*I*p*d*x + h*I*p + h*I*H*d*x + h*I*H*d + h*I*d*x + h*I*x + h*I + h*a*c*p*H*x + h*a*c*p*H + h*a*c*p*d + h*a*c*p*x + h*a*c*H*d*x + h*a*c*H*d + h*a*c*H + h*a*p*H*d + h*a*p*d + h*a*H*d + h*a*H*x + h*a*d*x + h*a*d + h*c*p*H*d + h*c*p*H*x + h*c*p*d + h*c*p + h*c*H*d*x + h*c*d*x + h*c*d + h*c + h*p*H*d*x + h*p*H*d + h*p + h*H*d + I*a*c*p*H*d*x + I*a*c*p*H + I*a*c*p*d*x + I*a*c*p*d + I*a*c*p + I*a*c*H*d*x + I*a*c*H*x + I*a*c*H + I*a*c*d + I*a*c*x + I*a*c + I*a*p*H*d*x + I*a*p*H*d + I*a*p*H + I*a*p*x + I*a*p + I*a*H*d*x + I*a*H*d + I*a*d*x + I*c*p*H*d + I*c*p*H + I*c*p*d*x + I*c*p*d + I*c*H*d + I*c*H*x + I*c*H + I*c*d + I*c*x + I*c + I*p*d*x + I*H*d*x + I*d*x + I*x + a*c*p*H*d*x + a*c*p*H + a*c*p*d*x + a*c*p*x + a*c*H*d + a*c*d*x + a*c*d + a*p*H*x + a*p*d*x + c*p*H*d*x + c*p*H*d + c*p*H*x + c*p*d + c*H*d*x + c*H*d + c*d*x + c*d + p*H*d*x])\n\u001b[0mClosest candidates are:\n\u001b[0m  ideal(::MPolyRing{T}, \u001b[91m::MPolyElem{T}\u001b[39m) where T<:RingElem at /home/oguzhan/.julia/packages/Oscar/Gwrn7/src/Rings/mpoly-ideals.jl:65\u001b[91m got unsupported keyword argument \"ordering\"\u001b[39m\n\u001b[0m  ideal(::MPolyRing, \u001b[91m::Vector{T} where T\u001b[39m) at /home/oguzhan/.julia/packages/Oscar/Gwrn7/src/Rings/mpoly-ideals.jl:57\u001b[91m got unsupported keyword argument \"ordering\"\u001b[39m\n\u001b[0m  ideal(::MPolyRing, \u001b[91m::Singular.sideal\u001b[39m) at /home/oguzhan/.julia/packages/Oscar/Gwrn7/src/Rings/mpoly.jl:533\u001b[91m got unsupported keyword argument \"ordering\"\u001b[39m\n\u001b[0m  ...",
     "output_type": "error",
     "traceback": [
      "MethodError: no method matching ideal(::NmodMPolyRing; ordering=nmod_mpoly[e^2 + e, h^2 + h, I^2 + I, a^2 + a, c^2 + c, p^2 + p, H^2 + H, d^2 + d, x^2 + x, e*h*I*a*c*p*H + e*h*I*a*c*p*d*x + e*h*I*a*c*p*d + e*h*I*a*c*H*d*x + e*h*I*a*c*H*d + e*h*I*a*c*H*x + e*h*I*a*c*d*x + e*h*I*a*c*d + e*h*I*a*c + e*h*I*a*p*H*d + e*h*I*a*p*H*x + e*h*I*a*p*x + e*h*I*a*p + e*h*I*a*H*d + e*h*I*a*H*x + e*h*I*a*H + e*h*I*c*p*H + e*h*I*c*p*d + e*h*I*c*p*x + e*h*I*c*p + e*h*I*c*H*d*x + e*h*I*c*H*x + e*h*I*c*d*x + e*h*I*c*d + e*h*I*c*x + e*h*I*c + e*h*I*p*H*d*x + e*h*I*p*H*x + e*h*I*p*H + e*h*I*H*x + e*h*I*x + e*h*a*c*p*H*d*x + e*h*a*c*p*H*d + e*h*a*c*p*d*x + e*h*a*c*p*d + e*h*a*c*p*x + e*h*a*c*H*d*x + e*h*a*c*d*x + e*h*a*c*d + e*h*a*c*x + e*h*a*p*H*d*x + e*h*a*p*H*x + e*h*a*p*d + e*h*a*p*x + e*h*a*p + e*h*a*H*d + e*h*a*H*x + e*h*a*H + e*h*a*d*x + e*h*a*x + e*h*c*p*H*x + e*h*c*p*H + e*h*c*p*d*x + e*h*c*p*x + e*h*c*H*d*x + e*h*c*H*d + e*h*c*H*x + e*h*c*d*x + e*h*c*d + e*h*p*H*d*x + e*h*p*d + e*h*p*x + e*h*p + e*h*H*d*x + e*h*H*x + e*h*d*x + e*I*a*c*p*H*d + e*I*a*c*p*H*x + e*I*a*c*p*H + e*I*a*c*p*d + e*I*a*c*p*x + e*I*a*c*H + e*I*a*c*d + e*I*a*c*x + e*I*a*c + e*I*a*p*H*d*x + e*I*a*p*d*x + e*I*a*p + e*I*a*H*d + e*I*a*d*x + e*I*a*x + e*I*c*p*H*x + e*I*c*p*H + e*I*c*H*d*x + e*I*c*H*d + e*I*c*H*x + e*I*c*H + e*I*c*d + e*I*c*x + e*I*c + e*I*p*d*x + e*I*H*d*x + e*I*d*x + e*I*x + e*a*c*p*H*d + e*a*c*p*H + e*a*c*p*d + e*a*c*H*d*x + e*a*c*H*d + e*a*c*d + e*a*p*x + e*c*p*H*d*x + e*c*p*x + e*c*H*d + e*c*d + h*I*a*c*p*H*d*x + h*I*a*c*p*H*d + h*I*a*c*p + h*I*a*c*H*x + h*I*a*c*d*x + h*I*a*c*x + h*I*a*c + h*I*a*p*H*d + h*I*a*p*d*x + h*I*a*p*d + h*I*a*p*x + h*I*a*p + h*I*a*H*d*x + h*I*a*H*x + h*I*a*d + h*I*c*p*H*x + h*I*c*p*d*x + h*I*c*p*d + h*I*c*p + h*I*c*H*x + h*I*c*H + h*I*c*d + h*I*c*x + h*I*p*H*d*x + h*I*p*H*x + h*I*p*H + h*I*p*d*x + h*I*p + h*I*H*d*x + h*I*H*d + h*I*d*x + h*I*x + h*I + h*a*c*p*H*x + h*a*c*p*H + h*a*c*p*d + h*a*c*p*x + h*a*c*H*d*x + h*a*c*H*d + h*a*c*H + h*a*p*H*d + h*a*p*d + h*a*H*d + h*a*H*x + h*a*d*x + h*a*d + h*c*p*H*d + h*c*p*H*x + h*c*p*d + h*c*p + h*c*H*d*x + h*c*d*x + h*c*d + h*c + h*p*H*d*x + h*p*H*d + h*p + h*H*d + I*a*c*p*H*d*x + I*a*c*p*H + I*a*c*p*d*x + I*a*c*p*d + I*a*c*p + I*a*c*H*d*x + I*a*c*H*x + I*a*c*H + I*a*c*d + I*a*c*x + I*a*c + I*a*p*H*d*x + I*a*p*H*d + I*a*p*H + I*a*p*x + I*a*p + I*a*H*d*x + I*a*H*d + I*a*d*x + I*c*p*H*d + I*c*p*H + I*c*p*d*x + I*c*p*d + I*c*H*d + I*c*H*x + I*c*H + I*c*d + I*c*x + I*c + I*p*d*x + I*H*d*x + I*d*x + I*x + a*c*p*H*d*x + a*c*p*H + a*c*p*d*x + a*c*p*x + a*c*H*d + a*c*d*x + a*c*d + a*p*H*x + a*p*d*x + c*p*H*d*x + c*p*H*d + c*p*H*x + c*p*d + c*H*d*x + c*H*d + c*d*x + c*d + p*H*d*x])\n\u001b[0mClosest candidates are:\n\u001b[0m  ideal(::MPolyRing{T}, \u001b[91m::MPolyElem{T}\u001b[39m) where T<:RingElem at /home/oguzhan/.julia/packages/Oscar/Gwrn7/src/Rings/mpoly-ideals.jl:65\u001b[91m got unsupported keyword argument \"ordering\"\u001b[39m\n\u001b[0m  ideal(::MPolyRing, \u001b[91m::Vector{T} where T\u001b[39m) at /home/oguzhan/.julia/packages/Oscar/Gwrn7/src/Rings/mpoly-ideals.jl:57\u001b[91m got unsupported keyword argument \"ordering\"\u001b[39m\n\u001b[0m  ideal(::MPolyRing, \u001b[91m::Singular.sideal\u001b[39m) at /home/oguzhan/.julia/packages/Oscar/Gwrn7/src/Rings/mpoly.jl:533\u001b[91m got unsupported keyword argument \"ordering\"\u001b[39m\n\u001b[0m  ...",
      "",
      "Stacktrace:",
      " [1] top-level scope",
      "   @ In[7]:5",
      " [2] eval",
      "   @ ./boot.jl:360 [inlined]",
      " [3] include_string(mapexpr::typeof(REPL.softscope), mod::Module, code::String, filename::String)",
      "   @ Base ./loading.jl:1116"
     ]
    }
   ],
   "source": [
    "uq_expr_list=unique(expr_list);\n",
    "expr=sum(uq_expr_list)+1;\n",
    "generator=myvars.^2+myvars;\n",
    "Y, m = quo(myR, ideal(myR, vcat(generator, expr)));\n",
    "GB = groebner_basis(ideal(myR, ordering = vcat(generator, expr)), wdeglex(gens(myR),monweight))"
   ]
  },
  {
   "cell_type": "markdown",
   "metadata": {},
   "source": [
    "<font size=\"5\">\n",
    "According to the \"rules\" included in the Gröbner Basis the simplification can be applied to all entries in the loaded table:\n",
    "</font>"
   ]
  },
  {
   "cell_type": "code",
   "execution_count": 8,
   "metadata": {},
   "outputs": [
    {
     "ename": "LoadError",
     "evalue": "UndefVarError: GB not defined",
     "output_type": "error",
     "traceback": [
      "UndefVarError: GB not defined",
      "",
      "Stacktrace:",
      " [1] top-level scope",
      "   @ ./In[8]:4",
      " [2] eval",
      "   @ ./boot.jl:360 [inlined]",
      " [3] include_string(mapexpr::typeof(REPL.softscope), mod::Module, code::String, filename::String)",
      "   @ Base ./loading.jl:1116"
     ]
    }
   ],
   "source": [
    "wrtnorm=0;\n",
    "for i = 1:size(uq_expr_list,1)\n",
    "    #res=m(uq_expr_list[i]); simplify!(res);\n",
    "    res=normal_form(uq_expr_list[i],GB);\n",
    "    #res=m(normal_form(uq_expr_list[i],GB)); simplify!(res);\n",
    "    counter=0;\n",
    "    for j = 1:size(expr_list,1)\n",
    "        if (uq_expr_list[i]==expr_list[j])\n",
    "            counter=counter+1;\n",
    "            printstyled(indices[j], color=:red);\n",
    "            print(\" \");\n",
    "        end\n",
    "    end\n",
    "    printstyled(\" (#\", color=:red);\n",
    "    printstyled(counter, color=:red);\n",
    "    printstyled(\")\", color=:red);\n",
    "    print(\"\\n\");\n",
    "    printstyled(factor(uq_expr_list[i]), color=:green);\n",
    "    if (wrtnorm==1)\n",
    "        printstyled(\"=\\n\", color=:green);\n",
    "        printstyled(uq_expr_list[i], color=:green);\n",
    "    end\n",
    "    print(\"\\n\");\n",
    "    printstyled(res, bold=:true);\n",
    "    print(\"\\n\\n\");\n",
    "end"
   ]
  }
 ],
 "metadata": {
  "kernelspec": {
   "display_name": "Julia 1.6.2",
   "language": "julia",
   "name": "julia-1.6"
  },
  "language_info": {
   "file_extension": ".jl",
   "mimetype": "application/julia",
   "name": "julia",
   "version": "1.6.2"
  }
 },
 "nbformat": 4,
 "nbformat_minor": 4
}
